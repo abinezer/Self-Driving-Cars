{
 "cells": [
  {
   "cell_type": "code",
   "execution_count": 42,
   "metadata": {
    "collapsed": false
   },
   "outputs": [
    {
     "name": "stdout",
     "output_type": "stream",
     "text": [
      "Using model model/models/model_model.05-0.0032585.h5 for testing.\n"
     ]
    }
   ],
   "source": [
    "from keras.models import load_model\n",
    "import sys\n",
    "import numpy as np\n",
    "import glob\n",
    "import os\n",
    "\n",
    "if ('../../PythonClient/' not in sys.path):\n",
    "    sys.path.insert(0, '../../PythonClient/')\n",
    "from AirSimClient import *\n",
    "\n",
    "# If None, then the model with the lowest validation loss from training will be used\n",
    "\n",
    "#MODEL_PATH = 'model/models/model_model.01-0.0227733.h5'\n",
    "MODEL_PATH = 'model/models/model_model.05-0.0032585.h5'\n",
    "\n",
    "if (MODEL_PATH == None):\n",
    "    models = glob.glob('model/models/*.h5') \n",
    "    best_model = max(models, key=os.path.getctime)\n",
    "    MODEL_PATH = best_model\n",
    "    \n",
    "print('Using model {0} for testing.'.format(MODEL_PATH))"
   ]
  },
  {
   "cell_type": "code",
   "execution_count": 43,
   "metadata": {
    "collapsed": false
   },
   "outputs": [
    {
     "name": "stdout",
     "output_type": "stream",
     "text": [
      "Waiting for connection: \n",
      "Connection established!\n"
     ]
    }
   ],
   "source": [
    "model = load_model(MODEL_PATH)\n",
    "\n",
    "client = CarClient()\n",
    "client.confirmConnection()\n",
    "client.enableApiControl(True)\n",
    "car_controls = CarControls()\n",
    "print('Connection established!')"
   ]
  },
  {
   "cell_type": "code",
   "execution_count": 44,
   "metadata": {
    "collapsed": true
   },
   "outputs": [],
   "source": [
    "car_controls.steering = 0\n",
    "car_controls.throttle = 0\n",
    "car_controls.brake = 0\n",
    "\n",
    "image_buf = np.zeros((1, 59, 255, 3))\n",
    "state_buf = np.zeros((1,4))"
   ]
  },
  {
   "cell_type": "code",
   "execution_count": null,
   "metadata": {
    "collapsed": true
   },
   "outputs": [],
   "source": [
    "def get_image():\n",
    "    image_response = client.simGetImages([ImageRequest(0, AirSimImageType.Scene, False, False)])[0]\n",
    "    image1d = np.fromstring(image_response.image_data_uint8, dtype=np.uint8)\n",
    "    image_rgba = image1d.reshape(image_response.height, image_response.width, 4)\n",
    "    \n",
    "    return image_rgba[76:135,0:255,0:3].astype(float)"
   ]
  },
  {
   "cell_type": "code",
   "execution_count": null,
   "metadata": {
    "collapsed": false
   },
   "outputs": [
    {
     "name": "stderr",
     "output_type": "stream",
     "text": [
      "C:\\Users\\johnema\\AppData\\Local\\Continuum\\Anaconda3\\lib\\site-packages\\ipykernel\\__main__.py:3: DeprecationWarning: The binary mode of fromstring is deprecated, as it behaves surprisingly on unicode inputs. Use frombuffer instead\n",
      "  app.launch_new_instance()\n"
     ]
    },
    {
     "name": "stdout",
     "output_type": "stream",
     "text": [
      "Sending steering = 1.3, throttle = 1.0\n",
      "Sending steering = 1.72, throttle = 1.0\n",
      "Sending steering = 1.55, throttle = 1.0\n",
      "Sending steering = 1.58, throttle = 1.0\n",
      "Sending steering = 1.33, throttle = 1.0\n",
      "Sending steering = 1.57, throttle = 1.0\n",
      "Sending steering = -0.73, throttle = 1.0\n",
      "Sending steering = -1.03, throttle = 1.0\n",
      "Sending steering = -2.19, throttle = 1.0\n",
      "Sending steering = -2.66, throttle = 1.0\n",
      "Sending steering = -1.39, throttle = 1.0\n",
      "Sending steering = -1.0, throttle = 1.0\n",
      "Sending steering = -1.94, throttle = 1.0\n",
      "Sending steering = -0.04, throttle = 1.0\n",
      "Sending steering = 0.11, throttle = 1.0\n",
      "Sending steering = -1.07, throttle = 1.0\n",
      "Sending steering = -0.73, throttle = 1.0\n",
      "Sending steering = -0.81, throttle = 1.0\n",
      "Sending steering = -0.33, throttle = 1.0\n",
      "Sending steering = -0.4, throttle = 1.0\n",
      "Sending steering = 1.89, throttle = 0.0\n",
      "Sending steering = 0.73, throttle = 0.0\n",
      "Sending steering = 0.66, throttle = 0.0\n",
      "Sending steering = 1.08, throttle = 0.0\n",
      "Sending steering = 1.0, throttle = 0.0\n",
      "Sending steering = 0.84, throttle = 0.0\n",
      "Sending steering = 0.34, throttle = 0.0\n",
      "Sending steering = -0.58, throttle = 0.0\n",
      "Sending steering = 0.19, throttle = 1.0\n",
      "Sending steering = 0.31, throttle = 1.0\n",
      "Sending steering = -0.56, throttle = 1.0\n",
      "Sending steering = -0.24, throttle = 1.0\n",
      "Sending steering = -0.86, throttle = 1.0\n",
      "Sending steering = 0.18, throttle = 1.0\n",
      "Sending steering = -0.5, throttle = 1.0\n",
      "Sending steering = -1.52, throttle = 1.0\n",
      "Sending steering = -1.89, throttle = 1.0\n",
      "Sending steering = -0.96, throttle = 1.0\n",
      "Sending steering = -1.46, throttle = 1.0\n",
      "Sending steering = -1.2, throttle = 1.0\n",
      "Sending steering = -0.52, throttle = 1.0\n",
      "Sending steering = 1.23, throttle = 1.0\n",
      "Sending steering = 1.17, throttle = 1.0\n",
      "Sending steering = 0.24, throttle = 0.0\n",
      "Sending steering = -0.97, throttle = 0.0\n",
      "Sending steering = -0.29, throttle = 0.0\n",
      "Sending steering = -0.19, throttle = 0.0\n",
      "Sending steering = -0.93, throttle = 1.0\n",
      "Sending steering = 0.01, throttle = 1.0\n",
      "Sending steering = -0.32, throttle = 1.0\n",
      "Sending steering = 0.18, throttle = 1.0\n",
      "Sending steering = 0.65, throttle = 1.0\n",
      "Sending steering = 0.1, throttle = 1.0\n",
      "Sending steering = 0.12, throttle = 1.0\n",
      "Sending steering = 0.65, throttle = 1.0\n",
      "Sending steering = 0.85, throttle = 1.0\n",
      "Sending steering = 0.8, throttle = 1.0\n",
      "Sending steering = 0.89, throttle = 1.0\n",
      "Sending steering = 0.53, throttle = 1.0\n",
      "Sending steering = 0.64, throttle = 1.0\n",
      "Sending steering = 0.74, throttle = 1.0\n",
      "Sending steering = 1.43, throttle = 1.0\n",
      "Sending steering = 1.11, throttle = 1.0\n",
      "Sending steering = 0.97, throttle = 1.0\n",
      "Sending steering = 0.16, throttle = 1.0\n",
      "Sending steering = 1.05, throttle = 1.0\n",
      "Sending steering = 1.61, throttle = 1.0\n",
      "Sending steering = 0.42, throttle = 1.0\n",
      "Sending steering = 0.5, throttle = 1.0\n",
      "Sending steering = -0.04, throttle = 1.0\n",
      "Sending steering = 0.05, throttle = 1.0\n"
     ]
    }
   ],
   "source": [
    "\n",
    "while (True):\n",
    "    car_state = client.getCarState()\n",
    "    \n",
    "    if (car_state.speed < 5):\n",
    "        car_controls.throttle = 1.0\n",
    "    else:\n",
    "        car_controls.throttle = 0.0\n",
    "    \n",
    "    image_buf[0] = get_image()\n",
    "    state_buf[0] = np.array([car_controls.steering, car_controls.throttle, car_controls.brake, car_state.speed])\n",
    "    model_output = model.predict([image_buf, state_buf])\n",
    "    car_controls.steering = round(0.5 * float(model_output[0][0]), 2)\n",
    "    \n",
    "    print('Sending steering = {0}, throttle = {1}'.format(car_controls.steering, car_controls.throttle))\n",
    "    \n",
    "    client.setCarControls(car_controls)"
   ]
  },
  {
   "cell_type": "code",
   "execution_count": null,
   "metadata": {
    "collapsed": true
   },
   "outputs": [],
   "source": []
  },
  {
   "cell_type": "code",
   "execution_count": null,
   "metadata": {
    "collapsed": true
   },
   "outputs": [],
   "source": []
  }
 ],
 "metadata": {
  "anaconda-cloud": {},
  "kernelspec": {
   "display_name": "Python [default]",
   "language": "python",
   "name": "python3"
  }
 },
 "nbformat": 4,
 "nbformat_minor": 4
}
